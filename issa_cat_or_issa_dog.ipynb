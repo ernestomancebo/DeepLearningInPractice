{
  "nbformat": 4,
  "nbformat_minor": 0,
  "metadata": {
    "colab": {
      "name": "issa cat or issa dog",
      "provenance": [],
      "collapsed_sections": [],
      "authorship_tag": "ABX9TyP0z0CtgdH8cui5VYDMCZR4",
      "include_colab_link": true
    },
    "kernelspec": {
      "name": "python3",
      "display_name": "Python 3"
    }
  },
  "cells": [
    {
      "cell_type": "markdown",
      "metadata": {
        "id": "view-in-github",
        "colab_type": "text"
      },
      "source": [
        "<a href=\"https://colab.research.google.com/github/ernestomancebo/DeepLearningInPractice/blob/main/issa_cat_or_issa_dog.ipynb\" target=\"_parent\"><img src=\"https://colab.research.google.com/assets/colab-badge.svg\" alt=\"Open In Colab\"/></a>"
      ]
    },
    {
      "cell_type": "markdown",
      "metadata": {
        "id": "DNd8g_nllikK"
      },
      "source": [
        "# Issa cat or Issa Dog\n",
        "This notebook atteps to do a binary classification for Cats and Dogs images from Kaggle datasets using a ConvNet."
      ]
    },
    {
      "cell_type": "code",
      "metadata": {
        "id": "nFn7jblglszM"
      },
      "source": [
        ""
      ],
      "execution_count": null,
      "outputs": []
    }
  ]
}