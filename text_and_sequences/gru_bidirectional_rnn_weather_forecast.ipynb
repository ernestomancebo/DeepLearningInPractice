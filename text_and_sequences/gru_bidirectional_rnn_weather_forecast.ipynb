{
  "nbformat": 4,
  "nbformat_minor": 0,
  "metadata": {
    "colab": {
      "name": "gru_bidirectional-rnn_weather_forecast.ipynb",
      "provenance": [],
      "collapsed_sections": [],
      "authorship_tag": "ABX9TyNAaKZqHd9Hlus4jlT/tcQt",
      "include_colab_link": true
    },
    "kernelspec": {
      "name": "python3",
      "display_name": "Python 3"
    }
  },
  "cells": [
    {
      "cell_type": "markdown",
      "metadata": {
        "id": "view-in-github",
        "colab_type": "text"
      },
      "source": [
        "<a href=\"https://colab.research.google.com/github/ernestomancebo/DeepLearningInPractice/blob/main/text_and_sequences/gru_bidirectional_rnn_weather_forecast.ipynb\" target=\"_parent\"><img src=\"https://colab.research.google.com/assets/colab-badge.svg\" alt=\"Open In Colab\"/></a>"
      ]
    },
    {
      "cell_type": "markdown",
      "metadata": {
        "id": "k0RUkTwqY6nT"
      },
      "source": [
        "#Weather Forecast with Naïve Method, GRU and Bidirectional RNN\n",
        "\n",
        "We're going to predict the weather using the Jena University dataset using a first naïve approach, later with a GRU and finaly contrasting those with a Bidirectional RNN.\n",
        "\n",
        "##Getting the Dataset"
      ]
    },
    {
      "cell_type": "code",
      "metadata": {
        "colab": {
          "base_uri": "https://localhost:8080/"
        },
        "id": "2KAbtC0sadD5",
        "outputId": "23642d48-b743-43d3-acf7-e73c89241760"
      },
      "source": [
        "# First we set up the data folder\n",
        "!mkdir jena_climate\n",
        "!wget https://s3.amazonaws.com/keras-datasets/jena_climate_2009_2016.csv.zip\n",
        "!unzip jena_climate_2009_2016.csv.zip -d jena_climate\n",
        "!rm  jena_climate_2009_2016.csv.zip "
      ],
      "execution_count": 2,
      "outputs": [
        {
          "output_type": "stream",
          "text": [
            "--2021-01-22 14:27:14--  https://s3.amazonaws.com/keras-datasets/jena_climate_2009_2016.csv.zip\n",
            "Resolving s3.amazonaws.com (s3.amazonaws.com)... 52.217.1.246\n",
            "Connecting to s3.amazonaws.com (s3.amazonaws.com)|52.217.1.246|:443... connected.\n",
            "HTTP request sent, awaiting response... 200 OK\n",
            "Length: 13565642 (13M) [application/zip]\n",
            "Saving to: ‘jena_climate_2009_2016.csv.zip’\n",
            "\n",
            "jena_climate_2009_2 100%[===================>]  12.94M  13.8MB/s    in 0.9s    \n",
            "\n",
            "2021-01-22 14:27:15 (13.8 MB/s) - ‘jena_climate_2009_2016.csv.zip’ saved [13565642/13565642]\n",
            "\n",
            "Archive:  jena_climate_2009_2016.csv.zip\n",
            "  inflating: jena_climate/jena_climate_2009_2016.csv  \n",
            "  inflating: jena_climate/__MACOSX/._jena_climate_2009_2016.csv  \n"
          ],
          "name": "stdout"
        }
      ]
    },
    {
      "cell_type": "markdown",
      "metadata": {
        "id": "9UU1qL7eczF8"
      },
      "source": [
        "Now we process the input file which contains all the data."
      ]
    },
    {
      "cell_type": "code",
      "metadata": {
        "id": "IHXTi0SIbrhj",
        "colab": {
          "base_uri": "https://localhost:8080/"
        },
        "outputId": "1e32cd62-2fc6-4f79-8818-1749718f7963"
      },
      "source": [
        "import os\n",
        "\n",
        "data_dir = 'jena_climate'\n",
        "fname = os.path.join(data_dir, 'jena_climate_2009_2016.csv')\n",
        "\n",
        "f = open(fname)\n",
        "data = f.read()\n",
        "f.close()\n",
        "\n",
        "lines = data.split('\\n')\n",
        "header = lines[0].split(',')\n",
        "lines = lines[1:]\n",
        "\n",
        "print(f'Header: {header}')\n",
        "print(f'No. Lines: {len(lines)}')"
      ],
      "execution_count": 3,
      "outputs": [
        {
          "output_type": "stream",
          "text": [
            "Header: ['\"Date Time\"', '\"p (mbar)\"', '\"T (degC)\"', '\"Tpot (K)\"', '\"Tdew (degC)\"', '\"rh (%)\"', '\"VPmax (mbar)\"', '\"VPact (mbar)\"', '\"VPdef (mbar)\"', '\"sh (g/kg)\"', '\"H2OC (mmol/mol)\"', '\"rho (g/m**3)\"', '\"wv (m/s)\"', '\"max. wv (m/s)\"', '\"wd (deg)\"']\n",
            "No. Lines: 420451\n"
          ],
          "name": "stdout"
        }
      ]
    },
    {
      "cell_type": "markdown",
      "metadata": {
        "id": "dFRuisX-dSpQ"
      },
      "source": [
        "Moving from primitive array to NumPy array"
      ]
    },
    {
      "cell_type": "code",
      "metadata": {
        "id": "lpLDIlU0dZ2l"
      },
      "source": [
        "import numpy as np\n",
        "\n",
        "# Dimenssion: Elements, Features\n",
        "float_data = np.zeros((len(lines), len(header) -1))\n",
        "for i, line in enumerate(lines):\n",
        "  values = [float(x) for x in line.split(',')[1:]]\n",
        "  float_data[i, :] = values"
      ],
      "execution_count": 4,
      "outputs": []
    },
    {
      "cell_type": "markdown",
      "metadata": {
        "id": "6No335Y7d3K9"
      },
      "source": [
        "###Ploting the temperature in timeseries."
      ]
    },
    {
      "cell_type": "code",
      "metadata": {
        "colab": {
          "base_uri": "https://localhost:8080/",
          "height": 394
        },
        "id": "yJLu_6zTeGuF",
        "outputId": "ed913006-4ec4-4928-b470-d3c568081313"
      },
      "source": [
        "from matplotlib import pyplot as plt\n",
        "\n",
        "temp = float_data[:, 1]\n",
        "plt.figure(figsize=(18, 6))\n",
        "plt.plot(range(len(temp)), temp)"
      ],
      "execution_count": null,
      "outputs": [
        {
          "output_type": "execute_result",
          "data": {
            "text/plain": [
              "[<matplotlib.lines.Line2D at 0x7f620a651a20>]"
            ]
          },
          "metadata": {
            "tags": []
          },
          "execution_count": 4
        },
        {
          "output_type": "display_data",
          "data": {
            "image/png": "[encoded data removed]",
            "text/plain": [
              "<Figure size 1296x432 with 1 Axes>"
            ]
          },
          "metadata": {
            "tags": [],
            "needs_background": "light"
          }
        }
      ]
    },
    {
      "cell_type": "markdown",
      "metadata": {
        "id": "yeMuaeZ3fIME"
      },
      "source": [
        "The dataset is composed by a 10-minutes frame metrics, meaning that per day there's `144` measures. To figure the first ten days we have to plot the first `1440` entries."
      ]
    },
    {
      "cell_type": "code",
      "metadata": {
        "colab": {
          "base_uri": "https://localhost:8080/",
          "height": 391
        },
        "id": "3hWWYhrCe8M2",
        "outputId": "5691d0c6-9b6b-40e5-bcfb-0a8d0d736f89"
      },
      "source": [
        "plt.figure(figsize=(18, 6))\n",
        "plt.plot(range(1440), temp[:1440])"
      ],
      "execution_count": null,
      "outputs": [
        {
          "output_type": "execute_result",
          "data": {
            "text/plain": [
              "[<matplotlib.lines.Line2D at 0x7f620a5c3400>]"
            ]
          },
          "metadata": {
            "tags": []
          },
          "execution_count": 5
        },
        {
          "output_type": "display_data",
          "data": {
            "image/png": "[encoded data removed]",
            "text/plain": [
              "<Figure size 1296x432 with 1 Axes>"
            ]
          },
          "metadata": {
            "tags": [],
            "needs_background": "light"
          }
        }
      ]
    },
    {
      "cell_type": "markdown",
      "metadata": {
        "id": "rq-X2Yeufjbi"
      },
      "source": [
        "##Preparing the Data\n",
        "\n",
        "We're shaping the problem as follow:\n",
        "\n",
        "Given a data going back as `lookback` timesteps (knowing that a timestep is 10 mint), and sampling every `steps` timesteps, we're predicting the temperature in `delay` timestep.\n",
        "\n",
        "That said, some sample values are:\n",
        "\n",
        "- `lookback = 720` -  Training back 5 days.\n",
        "- `steps = 6` - Looking a 1 point per hour: 60/10 = 6.\n",
        "- `delay = 144` -  The target is 24 hrs: 6 * 24 = 144."
      ]
    },
    {
      "cell_type": "markdown",
      "metadata": {
        "id": "zAwOmv9IhmJ5"
      },
      "source": [
        "We also need to shape the `float_data` into something that the neural network can digest, and also we need to scale down everything.\n",
        "\n",
        "We're using the first 200,000 entries for training, so we're taking its mean and standard deviation."
      ]
    },
    {
      "cell_type": "code",
      "metadata": {
        "id": "kUZk0J4uhmTr"
      },
      "source": [
        "mean = float_data[:200000].mean(axis=0)\n",
        "float_data -= mean\n",
        "std = float_data[:200000].std(axis=0)\n",
        "float_data /= std"
      ],
      "execution_count": 5,
      "outputs": []
    },
    {
      "cell_type": "markdown",
      "metadata": {
        "id": "c_ZkALGDhmc5"
      },
      "source": [
        "Now we're setting a `generator` that yields a tuple of input data shaped as `(samples, targets)`."
      ]
    },
    {
      "cell_type": "code",
      "metadata": {
        "id": "XDKGNfrrjQav"
      },
      "source": [
        "def generator(data,lookback, delay, min_index, max_index, shuffle=False, batch_size=128, step=6):\n",
        "  if max_index is None:\n",
        "    max_index = len(data) - delay - 1\n",
        "\n",
        "  i = min_index + lookback\n",
        "\n",
        "  while 1:\n",
        "    if shuffle:\n",
        "      rows = np.random.randint(min_index + lookback, max_index, size=batch_size)\n",
        "    else:\n",
        "      if i + batch_size >= max_index:\n",
        "        i = min_index + lookback\n",
        "      \n",
        "      rows = np.arange(i, min(i + batch_size, max_index))\n",
        "      i += len(rows)\n",
        "\n",
        "    samples = np.zeros((len(rows), lookback // step, data.shape[-1]))\n",
        "    targets = np.zeros((len(rows),))\n",
        "\n",
        "    for j, row in enumerate(rows):\n",
        "      # Defines the data slide indices\n",
        "      idx = range(rows[j] - lookback, rows[j], step)\n",
        "      samples[j] = data[idx]\n",
        "      targets[j] = data[rows[j] + delay][1]\n",
        "    \n",
        "    yield samples, targets"
      ],
      "execution_count": 6,
      "outputs": []
    },
    {
      "cell_type": "markdown",
      "metadata": {
        "id": "Xr6FPVhAjQjG"
      },
      "source": [
        "Now we define different generators for the splits we need"
      ]
    },
    {
      "cell_type": "code",
      "metadata": {
        "id": "6276MdmqjQr6"
      },
      "source": [
        "lookback = 1440\n",
        "step = 6\n",
        "delay = 144\n",
        "batch_size = 128\n",
        "\n",
        "train_gen = generator(\n",
        "    float_data,\n",
        "    lookback=lookback,\n",
        "    delay=delay,\n",
        "    min_index=0,\n",
        "    max_index=200_000,\n",
        "    shuffle=True,\n",
        "    step=step,\n",
        "    batch_size=batch_size\n",
        ")\n",
        "val_gen = generator(\n",
        "    float_data,\n",
        "    lookback=lookback,\n",
        "    delay=delay,\n",
        "    min_index=200_001,\n",
        "    max_index=300_000,\n",
        "    step=step,\n",
        "    batch_size=batch_size\n",
        ")\n",
        "test_gen = generator(\n",
        "    float_data,\n",
        "    lookback=lookback,\n",
        "    delay=delay,\n",
        "    min_index=300_001,\n",
        "    max_index=None,\n",
        "    step=step,\n",
        "    batch_size=batch_size\n",
        ")\n",
        "\n",
        "val_steps = (300_000 - 200_001 - lookback) // batch_size\n",
        "test_steps = (len(float_data) - 300_001 - lookback) // batch_size"
      ],
      "execution_count": 7,
      "outputs": []
    },
    {
      "cell_type": "markdown",
      "metadata": {
        "id": "ZUOLKrUe1KKh"
      },
      "source": [
        "###Naïve Method\n",
        "\n",
        "We're here implementing a naive implementation of forecasting based on historical data."
      ]
    },
    {
      "cell_type": "code",
      "metadata": {
        "id": "xDEgGPUIhmkQ"
      },
      "source": [
        "def evaluate_naive_method():\n",
        "  batch_maes = []\n",
        "\n",
        "  for step in range(val_steps):\n",
        "    samples, targets = next(val_gen)\n",
        "    preds = samples[:, -1, 1]\n",
        "    mae = np.mean(np.abs(preds - targets))\n",
        "\n",
        "    batch_maes.append(mae)\n",
        "  \n",
        "  print(np.mean(batch_maes))\n",
        "\n",
        "# evaluate_naive_method() # The output was ~0.29 (0.2896991739131649)"
      ],
      "execution_count": null,
      "outputs": []
    },
    {
      "cell_type": "markdown",
      "metadata": {
        "id": "a1porfcw4Nbf"
      },
      "source": [
        "##A `Dense` approach\n",
        "\n",
        "Let's see how a `Dense` regressor performs."
      ]
    },
    {
      "cell_type": "code",
      "metadata": {
        "id": "juatmrMj4Np0",
        "colab": {
          "base_uri": "https://localhost:8080/"
        },
        "outputId": "4937eec2-ade5-4570-eecf-6432a4bed170"
      },
      "source": [
        "from keras.models import Sequential\n",
        "from keras import layers\n",
        "from keras.optimizers import RMSprop\n",
        "\n",
        "model = Sequential()\n",
        "model.add(layers.Flatten(input_shape=(lookback // step, float_data.shape[-1])))\n",
        "model.add(layers.Dense(32, activation='relu'))\n",
        "model.add(layers.Dense(1))\n",
        "model.compile(optimizer=RMSprop(), loss='mae')\n",
        "\n",
        "model.summary()"
      ],
      "execution_count": null,
      "outputs": [
        {
          "output_type": "stream",
          "text": [
            "Model: \"sequential\"\n",
            "_________________________________________________________________\n",
            "Layer (type)                 Output Shape              Param #   \n",
            "=================================================================\n",
            "flatten (Flatten)            (None, 3360)              0         \n",
            "_________________________________________________________________\n",
            "dense (Dense)                (None, 32)                107552    \n",
            "_________________________________________________________________\n",
            "dense_1 (Dense)              (None, 1)                 33        \n",
            "=================================================================\n",
            "Total params: 107,585\n",
            "Trainable params: 107,585\n",
            "Non-trainable params: 0\n",
            "_________________________________________________________________\n"
          ],
          "name": "stdout"
        }
      ]
    },
    {
      "cell_type": "code",
      "metadata": {
        "id": "rTadlZli4Nw4"
      },
      "source": [
        "%%capture\n",
        "\n",
        "history = model.fit(\n",
        "    train_gen,\n",
        "    steps_per_epoch=500,\n",
        "    epochs=20,\n",
        "    validation_data=val_gen,\n",
        "    validation_steps=val_steps\n",
        ")"
      ],
      "execution_count": null,
      "outputs": []
    },
    {
      "cell_type": "code",
      "metadata": {
        "id": "MFZw_XfF4N5U"
      },
      "source": [
        "import matplotlib.pyplot as plt\n",
        "\n",
        "def plot_history(history):\n",
        "  loss = history.history['loss']\n",
        "  val_loss = history.history['val_loss']\n",
        "\n",
        "  epochs = range(1, len(loss) + 1)\n",
        "\n",
        "  plt.figure()\n",
        "\n",
        "  plt.plot(epochs, loss, 'bo', label='Training loss')\n",
        "  plt.plot(epochs, val_loss, 'b', label='Validation loss')\n",
        "  plt.title('Training and validation loss')\n",
        "  plt.legend()\n",
        "\n",
        "  plt.show()"
      ],
      "execution_count": 11,
      "outputs": []
    },
    {
      "cell_type": "code",
      "metadata": {
        "id": "ryZMtdxF0NQI"
      },
      "source": [
        "plot_history(history)"
      ],
      "execution_count": null,
      "outputs": []
    },
    {
      "cell_type": "markdown",
      "metadata": {
        "id": "C3kpNF_X-03y"
      },
      "source": [
        "##A `GRU` approach\n",
        "\n",
        "Now we're using a GRU (Gated Recurrent Unit), which is another RNN variant but a bit lighter thant LSTM"
      ]
    },
    {
      "cell_type": "code",
      "metadata": {
        "id": "PE9PsVIF-1Ep",
        "colab": {
          "base_uri": "https://localhost:8080/"
        },
        "outputId": "587b9e63-50be-490d-fa54-ee112b930d3f"
      },
      "source": [
        "from keras.models import Sequential\n",
        "from keras import layers \n",
        "from keras.optimizers import RMSprop\n",
        "\n",
        "model = Sequential()\n",
        "model.add(layers.GRU(32, input_shape=(None, float_data.shape[-1])))\n",
        "model.add(layers.Dense(1))\n",
        "model.compile(optimizer=RMSprop(), loss='mae')\n",
        "\n",
        "model.summary()"
      ],
      "execution_count": null,
      "outputs": [
        {
          "output_type": "stream",
          "text": [
            "Model: \"sequential_1\"\n",
            "_________________________________________________________________\n",
            "Layer (type)                 Output Shape              Param #   \n",
            "=================================================================\n",
            "gru (GRU)                    (None, 32)                4608      \n",
            "_________________________________________________________________\n",
            "dense_2 (Dense)              (None, 1)                 33        \n",
            "=================================================================\n",
            "Total params: 4,641\n",
            "Trainable params: 4,641\n",
            "Non-trainable params: 0\n",
            "_________________________________________________________________\n"
          ],
          "name": "stdout"
        }
      ]
    },
    {
      "cell_type": "code",
      "metadata": {
        "id": "vt2jZsN5-1LZ"
      },
      "source": [
        "%%capture\n",
        "\n",
        "history = model.fit(\n",
        "    train_gen,\n",
        "    steps_per_epoch=500,\n",
        "    epochs=20,\n",
        "    validation_data=val_gen,\n",
        "    validation_steps=val_steps\n",
        ")"
      ],
      "execution_count": null,
      "outputs": []
    },
    {
      "cell_type": "markdown",
      "metadata": {
        "id": "DNn9SLlh9Fcb"
      },
      "source": [
        "We have a better loss here, that's because of the nature of the data: sequential."
      ]
    },
    {
      "cell_type": "code",
      "metadata": {
        "id": "1HJs9l8M-1To",
        "colab": {
          "base_uri": "https://localhost:8080/",
          "height": 281
        },
        "outputId": "d30c9741-7f69-4f8d-a8db-195e3db03e64"
      },
      "source": [
        "plot_history(history)"
      ],
      "execution_count": null,
      "outputs": [
        {
          "output_type": "display_data",
          "data": {
            "image/png": "[encoded data removed]",
            "text/plain": [
              "<Figure size 432x288 with 1 Axes>"
            ]
          },
          "metadata": {
            "tags": [],
            "needs_background": "light"
          }
        }
      ]
    },
    {
      "cell_type": "markdown",
      "metadata": {
        "id": "kJtRzwr1BBuW"
      },
      "source": [
        "##`GRU` with `Dropout`\n",
        "\n",
        "Similar to ConvNet, we can implement a `Dropout` schema in RNN, but something to take in count is that the `Dropout` must be applied as a constant filter to every timestep instead a randomly generted filter at each step (this is the underneath of a `Dropout` in a RNN, we don't implement it here).\n",
        "\n",
        "Also, something to note is that the `Dropout` is applied for the input sequence and also to the recurrent units, so the implementation of this with Keras is specifying those parameters."
      ]
    },
    {
      "cell_type": "code",
      "metadata": {
        "id": "IjYWxnubBBB5",
        "colab": {
          "base_uri": "https://localhost:8080/"
        },
        "outputId": "0ad015c0-4fd9-46cc-8069-b762634098df"
      },
      "source": [
        "from keras.models import Sequential\n",
        "from keras import layers\n",
        "from keras.optimizers import RMSprop\n",
        "\n",
        "model = Sequential()\n",
        "model.add(layers.GRU(\n",
        "    32, dropout=0.2, recurrent_dropout=0.2, input_shape=(None, float_data.shape[-1])))\n",
        "model.add(layers.Dense(1))\n",
        "model.compile(optimizer=RMSprop(), loss='mae')\n",
        "\n",
        "model.summary()"
      ],
      "execution_count": 8,
      "outputs": [
        {
          "output_type": "stream",
          "text": [
            "Model: \"sequential\"\n",
            "_________________________________________________________________\n",
            "Layer (type)                 Output Shape              Param #   \n",
            "=================================================================\n",
            "gru (GRU)                    (None, 32)                4608      \n",
            "_________________________________________________________________\n",
            "dense (Dense)                (None, 1)                 33        \n",
            "=================================================================\n",
            "Total params: 4,641\n",
            "Trainable params: 4,641\n",
            "Non-trainable params: 0\n",
            "_________________________________________________________________\n"
          ],
          "name": "stdout"
        }
      ]
    },
    {
      "cell_type": "code",
      "metadata": {
        "id": "764eqVAm-1kq",
        "colab": {
          "base_uri": "https://localhost:8080/"
        },
        "outputId": "3635b31e-f6a7-4b38-b6e1-ab087bdc83fb"
      },
      "source": [
        "# Since the dropout reduces the information between cells/layers, more epochs are needed.\n",
        "history = model.fit(\n",
        "    train_gen, steps_per_epoch=500, epochs=40, validation_data=val_gen, validation_steps=val_steps\n",
        ")"
      ],
      "execution_count": 9,
      "outputs": [
        {
          "output_type": "stream",
          "text": [
            "Epoch 1/40\n",
            "500/500 [==============================] - 134s 264ms/step - loss: 0.3739 - val_loss: 0.2798\n",
            "Epoch 2/40\n",
            "500/500 [==============================] - 132s 263ms/step - loss: 0.3100 - val_loss: 0.2836\n",
            "Epoch 3/40\n",
            "500/500 [==============================] - 133s 266ms/step - loss: 0.2998 - val_loss: 0.2779\n",
            "Epoch 4/40\n",
            "500/500 [==============================] - 137s 275ms/step - loss: 0.2924 - val_loss: 0.2776\n",
            "Epoch 5/40\n",
            "500/500 [==============================] - 134s 267ms/step - loss: 0.2906 - val_loss: 0.2722\n",
            "Epoch 6/40\n",
            "500/500 [==============================] - 134s 268ms/step - loss: 0.2880 - val_loss: 0.2729\n",
            "Epoch 7/40\n",
            "500/500 [==============================] - 134s 268ms/step - loss: 0.2815 - val_loss: 0.2681\n",
            "Epoch 8/40\n",
            "500/500 [==============================] - 133s 267ms/step - loss: 0.2791 - val_loss: 0.2721\n",
            "Epoch 9/40\n",
            "500/500 [==============================] - 134s 268ms/step - loss: 0.2784 - val_loss: 0.2722\n",
            "Epoch 10/40\n",
            "500/500 [==============================] - 134s 268ms/step - loss: 0.2752 - val_loss: 0.2715\n",
            "Epoch 11/40\n",
            "500/500 [==============================] - 134s 269ms/step - loss: 0.2712 - val_loss: 0.2705\n",
            "Epoch 12/40\n",
            "500/500 [==============================] - 134s 269ms/step - loss: 0.2698 - val_loss: 0.2723\n",
            "Epoch 13/40\n",
            "500/500 [==============================] - 135s 270ms/step - loss: 0.2651 - val_loss: 0.2749\n",
            "Epoch 14/40\n",
            "500/500 [==============================] - 134s 269ms/step - loss: 0.2666 - val_loss: 0.2727\n",
            "Epoch 15/40\n",
            "500/500 [==============================] - 134s 268ms/step - loss: 0.2633 - val_loss: 0.2782\n",
            "Epoch 16/40\n",
            "500/500 [==============================] - 134s 268ms/step - loss: 0.2613 - val_loss: 0.2745\n",
            "Epoch 17/40\n",
            "500/500 [==============================] - 135s 270ms/step - loss: 0.2599 - val_loss: 0.2719\n",
            "Epoch 18/40\n",
            "500/500 [==============================] - 135s 269ms/step - loss: 0.2575 - val_loss: 0.2801\n",
            "Epoch 19/40\n",
            "500/500 [==============================] - 134s 268ms/step - loss: 0.2553 - val_loss: 0.2744\n",
            "Epoch 20/40\n",
            "500/500 [==============================] - 134s 269ms/step - loss: 0.2516 - val_loss: 0.2767\n",
            "Epoch 21/40\n",
            "500/500 [==============================] - 134s 268ms/step - loss: 0.2547 - val_loss: 0.2791\n",
            "Epoch 22/40\n",
            "500/500 [==============================] - 134s 268ms/step - loss: 0.2522 - val_loss: 0.2810\n",
            "Epoch 23/40\n",
            "500/500 [==============================] - 134s 268ms/step - loss: 0.2513 - val_loss: 0.2815\n",
            "Epoch 24/40\n",
            "500/500 [==============================] - 137s 274ms/step - loss: 0.2481 - val_loss: 0.2869\n",
            "Epoch 25/40\n",
            "500/500 [==============================] - 136s 273ms/step - loss: 0.2467 - val_loss: 0.2858\n",
            "Epoch 26/40\n",
            "500/500 [==============================] - 137s 274ms/step - loss: 0.2464 - val_loss: 0.2877\n",
            "Epoch 27/40\n",
            "500/500 [==============================] - 135s 270ms/step - loss: 0.2433 - val_loss: 0.2844\n",
            "Epoch 28/40\n",
            "500/500 [==============================] - 136s 273ms/step - loss: 0.2432 - val_loss: 0.2950\n",
            "Epoch 29/40\n",
            "500/500 [==============================] - 134s 269ms/step - loss: 0.2423 - val_loss: 0.2875\n",
            "Epoch 30/40\n",
            "500/500 [==============================] - 134s 268ms/step - loss: 0.2435 - val_loss: 0.2889\n",
            "Epoch 31/40\n",
            "500/500 [==============================] - 135s 269ms/step - loss: 0.2389 - val_loss: 0.2900\n",
            "Epoch 32/40\n",
            "500/500 [==============================] - 134s 268ms/step - loss: 0.2388 - val_loss: 0.2895\n",
            "Epoch 33/40\n",
            "500/500 [==============================] - 134s 267ms/step - loss: 0.2376 - val_loss: 0.2909\n",
            "Epoch 34/40\n",
            "500/500 [==============================] - 133s 266ms/step - loss: 0.2376 - val_loss: 0.2949\n",
            "Epoch 35/40\n",
            "500/500 [==============================] - 134s 267ms/step - loss: 0.2349 - val_loss: 0.2939\n",
            "Epoch 36/40\n",
            "500/500 [==============================] - 134s 268ms/step - loss: 0.2357 - val_loss: 0.3004\n",
            "Epoch 37/40\n",
            "500/500 [==============================] - 134s 267ms/step - loss: 0.2329 - val_loss: 0.2987\n",
            "Epoch 38/40\n",
            "500/500 [==============================] - 134s 268ms/step - loss: 0.2338 - val_loss: 0.2991\n",
            "Epoch 39/40\n",
            "500/500 [==============================] - 134s 268ms/step - loss: 0.2304 - val_loss: 0.3065\n",
            "Epoch 40/40\n",
            "500/500 [==============================] - 134s 268ms/step - loss: 0.2310 - val_loss: 0.3045\n"
          ],
          "name": "stdout"
        }
      ]
    },
    {
      "cell_type": "code",
      "metadata": {
        "id": "9s_tgrwW-1x4",
        "colab": {
          "base_uri": "https://localhost:8080/",
          "height": 281
        },
        "outputId": "fede6add-02fb-4ac0-84eb-9dad3ad32c4e"
      },
      "source": [
        "plot_history(history)"
      ],
      "execution_count": 12,
      "outputs": [
        {
          "output_type": "display_data",
          "data": {
            "image/png": "[encoded data removed]",
            "text/plain": [
              "<Figure size 432x288 with 1 Axes>"
            ]
          },
          "metadata": {
            "tags": [],
            "needs_background": "light"
          }
        }
      ]
    },
    {
      "cell_type": "markdown",
      "metadata": {
        "id": "ptajvRugEqWr"
      },
      "source": [
        "##Stacking RNN\n",
        "\n",
        "Another approach to reduce overfiting on every DL model (besides Dropout) is adding more layers."
      ]
    },
    {
      "cell_type": "code",
      "metadata": {
        "id": "vUS17BzbErpp",
        "colab": {
          "base_uri": "https://localhost:8080/"
        },
        "outputId": "d9ac5c2c-f71d-40cb-9d86-f33b89d8156b"
      },
      "source": [
        "from keras.models import Sequential\n",
        "from keras import layers\n",
        "from keras.optimizers import RMSprop\n",
        "\n",
        "model = Sequential()\n",
        "model.add(layers.GRU(\n",
        "    32, dropout=0.1, recurrent_dropout=0.5, return_sequences=True, input_shape=(None, float_data.shape[-1])))\n",
        "model.add(layers.GRU(\n",
        "    64, dropout=0.1, recurrent_dropout=0.5, activation='relu'))\n",
        "model.add(layers.Dense(1))\n",
        "model.compile(optimizer=RMSprop(), loss='mae')\n",
        "\n",
        "model.summary()"
      ],
      "execution_count": 13,
      "outputs": [
        {
          "output_type": "stream",
          "text": [
            "Model: \"sequential_1\"\n",
            "_________________________________________________________________\n",
            "Layer (type)                 Output Shape              Param #   \n",
            "=================================================================\n",
            "gru_1 (GRU)                  (None, None, 32)          4608      \n",
            "_________________________________________________________________\n",
            "gru_2 (GRU)                  (None, 64)                18816     \n",
            "_________________________________________________________________\n",
            "dense_1 (Dense)              (None, 1)                 65        \n",
            "=================================================================\n",
            "Total params: 23,489\n",
            "Trainable params: 23,489\n",
            "Non-trainable params: 0\n",
            "_________________________________________________________________\n"
          ],
          "name": "stdout"
        }
      ]
    },
    {
      "cell_type": "code",
      "metadata": {
        "id": "WBy62ffyEqgN",
        "colab": {
          "base_uri": "https://localhost:8080/"
        },
        "outputId": "7c60a9fa-3125-43b9-ae2d-dc455d2b0b9f"
      },
      "source": [
        "# %%capture\n",
        "\n",
        "history = model.fit(train_gen, steps_per_epoch=500, epochs=40, validation_data=val_gen, validation_steps=val_steps)"
      ],
      "execution_count": 14,
      "outputs": [
        {
          "output_type": "stream",
          "text": [
            "Epoch 1/40\n",
            "500/500 [==============================] - 366s 725ms/step - loss: 0.3405 - val_loss: 0.2776\n",
            "Epoch 2/40\n",
            "500/500 [==============================] - 362s 725ms/step - loss: 0.3035 - val_loss: 0.2728\n",
            "Epoch 3/40\n",
            "500/500 [==============================] - 362s 725ms/step - loss: 0.2973 - val_loss: 0.2805\n",
            "Epoch 4/40\n",
            "500/500 [==============================] - 361s 723ms/step - loss: 0.2895 - val_loss: 0.2730\n",
            "Epoch 5/40\n",
            "500/500 [==============================] - 361s 722ms/step - loss: 0.2842 - val_loss: 0.2737\n",
            "Epoch 6/40\n",
            "500/500 [==============================] - 361s 721ms/step - loss: 0.2776 - val_loss: 0.2755\n",
            "Epoch 7/40\n",
            "500/500 [==============================] - 362s 724ms/step - loss: 0.2697 - val_loss: 0.2736\n",
            "Epoch 8/40\n",
            "500/500 [==============================] - 361s 722ms/step - loss: 0.2669 - val_loss: 0.2848\n",
            "Epoch 9/40\n",
            "500/500 [==============================] - 361s 723ms/step - loss: 0.2600 - val_loss: 0.2829\n",
            "Epoch 10/40\n",
            "500/500 [==============================] - 363s 726ms/step - loss: 0.2572 - val_loss: 0.2796\n",
            "Epoch 11/40\n",
            "500/500 [==============================] - 361s 722ms/step - loss: 0.2531 - val_loss: 0.2856\n",
            "Epoch 12/40\n",
            "500/500 [==============================] - 363s 726ms/step - loss: 0.2481 - val_loss: 0.2815\n",
            "Epoch 13/40\n",
            "500/500 [==============================] - 363s 727ms/step - loss: 0.2448 - val_loss: 0.2888\n",
            "Epoch 14/40\n",
            "500/500 [==============================] - 363s 726ms/step - loss: 0.2414 - val_loss: 0.2911\n",
            "Epoch 15/40\n",
            "500/500 [==============================] - 363s 725ms/step - loss: 0.2383 - val_loss: 0.3016\n",
            "Epoch 16/40\n",
            "500/500 [==============================] - 364s 727ms/step - loss: 0.2340 - val_loss: 0.2992\n",
            "Epoch 17/40\n",
            "500/500 [==============================] - 365s 730ms/step - loss: 0.2318 - val_loss: 0.3084\n",
            "Epoch 18/40\n",
            "500/500 [==============================] - 364s 728ms/step - loss: 0.2264 - val_loss: 0.3046\n",
            "Epoch 19/40\n",
            "500/500 [==============================] - 366s 732ms/step - loss: 0.2235 - val_loss: 0.3168\n",
            "Epoch 20/40\n",
            "500/500 [==============================] - 367s 734ms/step - loss: 0.2209 - val_loss: 0.3130\n",
            "Epoch 21/40\n",
            "500/500 [==============================] - 366s 733ms/step - loss: 0.2182 - val_loss: 0.3128\n",
            "Epoch 22/40\n",
            "500/500 [==============================] - 365s 730ms/step - loss: 0.2160 - val_loss: 0.3221\n",
            "Epoch 23/40\n",
            "500/500 [==============================] - 364s 728ms/step - loss: 0.2147 - val_loss: 0.3231\n",
            "Epoch 24/40\n",
            "500/500 [==============================] - 364s 728ms/step - loss: 0.2108 - val_loss: 0.3251\n",
            "Epoch 25/40\n",
            "500/500 [==============================] - 363s 727ms/step - loss: 0.2100 - val_loss: 0.3250\n",
            "Epoch 26/40\n",
            "500/500 [==============================] - 367s 735ms/step - loss: 0.2073 - val_loss: 0.3225\n",
            "Epoch 27/40\n",
            "500/500 [==============================] - 370s 741ms/step - loss: 0.2045 - val_loss: 0.3225\n",
            "Epoch 28/40\n",
            "500/500 [==============================] - 372s 745ms/step - loss: 0.2041 - val_loss: 0.3285\n",
            "Epoch 29/40\n",
            "500/500 [==============================] - 366s 732ms/step - loss: 0.2008 - val_loss: 0.3310\n",
            "Epoch 30/40\n",
            "500/500 [==============================] - 366s 732ms/step - loss: 0.1991 - val_loss: 0.3305\n",
            "Epoch 31/40\n",
            "500/500 [==============================] - 366s 732ms/step - loss: 0.1972 - val_loss: 0.3330\n",
            "Epoch 32/40\n",
            "500/500 [==============================] - 367s 734ms/step - loss: 0.1979 - val_loss: 0.3306\n",
            "Epoch 33/40\n",
            "500/500 [==============================] - 367s 733ms/step - loss: 0.1953 - val_loss: 0.3287\n",
            "Epoch 34/40\n",
            "500/500 [==============================] - 368s 736ms/step - loss: 0.1940 - val_loss: 0.3413\n",
            "Epoch 35/40\n",
            "500/500 [==============================] - 367s 735ms/step - loss: 0.1921 - val_loss: 0.3272\n",
            "Epoch 36/40\n",
            "500/500 [==============================] - 369s 738ms/step - loss: 0.1906 - val_loss: 0.3368\n",
            "Epoch 37/40\n",
            "500/500 [==============================] - 368s 737ms/step - loss: 0.1897 - val_loss: 0.3307\n",
            "Epoch 38/40\n",
            "500/500 [==============================] - 369s 739ms/step - loss: 0.1881 - val_loss: 0.3426\n",
            "Epoch 39/40\n",
            "500/500 [==============================] - 368s 736ms/step - loss: 0.1864 - val_loss: 0.3458\n",
            "Epoch 40/40\n",
            "500/500 [==============================] - 369s 738ms/step - loss: 0.1866 - val_loss: 0.3289\n"
          ],
          "name": "stdout"
        }
      ]
    },
    {
      "cell_type": "code",
      "metadata": {
        "id": "Sa9YnopbEqne",
        "colab": {
          "base_uri": "https://localhost:8080/",
          "height": 281
        },
        "outputId": "2ee2305c-e575-4fa5-c40d-81b73fadcc45"
      },
      "source": [
        "plot_history(history)"
      ],
      "execution_count": 15,
      "outputs": [
        {
          "output_type": "display_data",
          "data": {
            "image/png": "[encoded data removed]",
            "text/plain": [
              "<Figure size 432x288 with 1 Axes>"
            ]
          },
          "metadata": {
            "tags": [],
            "needs_background": "light"
          }
        }
      ]
    },
    {
      "cell_type": "markdown",
      "metadata": {
        "id": "N6jUs0n7Eqtp"
      },
      "source": [
        "##Bidirectional `GRU`\n",
        "\n",
        "A final approach is doing a bidirectiona RNN, which learns from chronological and reversed sequences. Order matters? let's see. "
      ]
    },
    {
      "cell_type": "code",
      "metadata": {
        "id": "CU8CJXqDEqzi"
      },
      "source": [
        "from keras.models import Sequential\n",
        "from keras import layers\n",
        "from keras.optimizers import RMSprop\n",
        "\n",
        "model = Sequential()\n",
        "model.add(layers.Bidirectional(\n",
        "  layers.GRU(32, input_shape=(None, float_data.shape[-1]))))\n",
        "model.add(layers.Dense(1))\n",
        "model.compile(optimizer=RMSprop(), loss='mae')"
      ],
      "execution_count": 21,
      "outputs": []
    },
    {
      "cell_type": "code",
      "metadata": {
        "id": "3KBArF0dEq5P",
        "colab": {
          "base_uri": "https://localhost:8080/"
        },
        "outputId": "01f3c2a0-770b-415a-dd1f-1627d8cc7ac1"
      },
      "source": [
        "# %%capture\n",
        "\n",
        "history = model.fit(train_gen, steps_per_epoch=500, epochs=40, validation_data=val_gen, validation_steps=val_steps)"
      ],
      "execution_count": 22,
      "outputs": [
        {
          "output_type": "stream",
          "text": [
            "Epoch 1/40\n",
            "500/500 [==============================] - 139s 270ms/step - loss: 0.3148 - val_loss: 0.2691\n",
            "Epoch 2/40\n",
            "500/500 [==============================] - 133s 267ms/step - loss: 0.2751 - val_loss: 0.2694\n",
            "Epoch 3/40\n",
            "500/500 [==============================] - 134s 269ms/step - loss: 0.2689 - val_loss: 0.2651\n",
            "Epoch 4/40\n",
            "500/500 [==============================] - 132s 265ms/step - loss: 0.2612 - val_loss: 0.2653\n",
            "Epoch 5/40\n",
            "500/500 [==============================] - 133s 266ms/step - loss: 0.2569 - val_loss: 0.2650\n",
            "Epoch 6/40\n",
            "500/500 [==============================] - 136s 272ms/step - loss: 0.2501 - val_loss: 0.2712\n",
            "Epoch 7/40\n",
            "500/500 [==============================] - 138s 275ms/step - loss: 0.2444 - val_loss: 0.2733\n",
            "Epoch 8/40\n",
            "500/500 [==============================] - 137s 274ms/step - loss: 0.2384 - val_loss: 0.2762\n",
            "Epoch 9/40\n",
            "500/500 [==============================] - 137s 273ms/step - loss: 0.2329 - val_loss: 0.2818\n",
            "Epoch 10/40\n",
            "500/500 [==============================] - 137s 274ms/step - loss: 0.2274 - val_loss: 0.2855\n",
            "Epoch 11/40\n",
            "500/500 [==============================] - 137s 274ms/step - loss: 0.2197 - val_loss: 0.2975\n",
            "Epoch 12/40\n",
            "500/500 [==============================] - 136s 272ms/step - loss: 0.2136 - val_loss: 0.2944\n",
            "Epoch 13/40\n",
            "500/500 [==============================] - 136s 273ms/step - loss: 0.2075 - val_loss: 0.3042\n",
            "Epoch 14/40\n",
            "500/500 [==============================] - 138s 276ms/step - loss: 0.2023 - val_loss: 0.3084\n",
            "Epoch 15/40\n",
            "500/500 [==============================] - 137s 274ms/step - loss: 0.1945 - val_loss: 0.3081\n",
            "Epoch 16/40\n",
            "500/500 [==============================] - 137s 273ms/step - loss: 0.1918 - val_loss: 0.3160\n",
            "Epoch 17/40\n",
            "500/500 [==============================] - 138s 276ms/step - loss: 0.1844 - val_loss: 0.3143\n",
            "Epoch 18/40\n",
            "500/500 [==============================] - 137s 275ms/step - loss: 0.1812 - val_loss: 0.3273\n",
            "Epoch 19/40\n",
            "500/500 [==============================] - 138s 276ms/step - loss: 0.1781 - val_loss: 0.3304\n",
            "Epoch 20/40\n",
            "500/500 [==============================] - 137s 274ms/step - loss: 0.1741 - val_loss: 0.3319\n",
            "Epoch 21/40\n",
            "500/500 [==============================] - 138s 276ms/step - loss: 0.1706 - val_loss: 0.3351\n",
            "Epoch 22/40\n",
            "500/500 [==============================] - 138s 276ms/step - loss: 0.1671 - val_loss: 0.3374\n",
            "Epoch 23/40\n",
            "500/500 [==============================] - 138s 276ms/step - loss: 0.1646 - val_loss: 0.3394\n",
            "Epoch 24/40\n",
            "500/500 [==============================] - 137s 275ms/step - loss: 0.1610 - val_loss: 0.3401\n",
            "Epoch 25/40\n",
            "500/500 [==============================] - 137s 275ms/step - loss: 0.1599 - val_loss: 0.3408\n",
            "Epoch 26/40\n",
            "500/500 [==============================] - 138s 276ms/step - loss: 0.1567 - val_loss: 0.3408\n",
            "Epoch 27/40\n",
            "500/500 [==============================] - 138s 276ms/step - loss: 0.1527 - val_loss: 0.3414\n",
            "Epoch 28/40\n",
            "500/500 [==============================] - 137s 275ms/step - loss: 0.1520 - val_loss: 0.3421\n",
            "Epoch 29/40\n",
            "500/500 [==============================] - 137s 273ms/step - loss: 0.1496 - val_loss: 0.3456\n",
            "Epoch 30/40\n",
            "500/500 [==============================] - 137s 274ms/step - loss: 0.1469 - val_loss: 0.3550\n",
            "Epoch 31/40\n",
            "500/500 [==============================] - 138s 276ms/step - loss: 0.1459 - val_loss: 0.3439\n",
            "Epoch 32/40\n",
            "500/500 [==============================] - 143s 287ms/step - loss: 0.1439 - val_loss: 0.3492\n",
            "Epoch 33/40\n",
            "500/500 [==============================] - 150s 300ms/step - loss: 0.1411 - val_loss: 0.3478\n",
            "Epoch 34/40\n",
            "500/500 [==============================] - 151s 302ms/step - loss: 0.1399 - val_loss: 0.3447\n",
            "Epoch 35/40\n",
            "500/500 [==============================] - 141s 282ms/step - loss: 0.1373 - val_loss: 0.3493\n",
            "Epoch 36/40\n",
            "500/500 [==============================] - 142s 284ms/step - loss: 0.1375 - val_loss: 0.3448\n",
            "Epoch 37/40\n",
            "500/500 [==============================] - 143s 286ms/step - loss: 0.1354 - val_loss: 0.3533\n",
            "Epoch 38/40\n",
            "500/500 [==============================] - 138s 277ms/step - loss: 0.1347 - val_loss: 0.3529\n",
            "Epoch 39/40\n",
            "500/500 [==============================] - 136s 273ms/step - loss: 0.1343 - val_loss: 0.3519\n",
            "Epoch 40/40\n",
            "500/500 [==============================] - 137s 274ms/step - loss: 0.1310 - val_loss: 0.3589\n"
          ],
          "name": "stdout"
        }
      ]
    },
    {
      "cell_type": "code",
      "metadata": {
        "id": "BZXrr7ZuEq_U",
        "colab": {
          "base_uri": "https://localhost:8080/",
          "height": 281
        },
        "outputId": "2709a949-f102-4ae0-c824-f841d3b45378"
      },
      "source": [
        "plot_history(history)"
      ],
      "execution_count": 23,
      "outputs": [
        {
          "output_type": "display_data",
          "data": {
            "image/png": "[encoded data removed]",
            "text/plain": [
              "<Figure size 432x288 with 1 Axes>"
            ]
          },
          "metadata": {
            "tags": [],
            "needs_background": "light"
          }
        }
      ]
    }
  ]
}