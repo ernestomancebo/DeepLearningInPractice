{
  "nbformat": 4,
  "nbformat_minor": 0,
  "metadata": {
    "colab": {
      "name": "raw2word_embedding.ipynb",
      "provenance": [],
      "collapsed_sections": [],
      "toc_visible": true,
      "authorship_tag": "ABX9TyMPtfOhPPZKfnYUzbSFneJm",
      "include_colab_link": true
    },
    "kernelspec": {
      "name": "python3",
      "display_name": "Python 3"
    }
  },
  "cells": [
    {
      "cell_type": "markdown",
      "metadata": {
        "id": "view-in-github",
        "colab_type": "text"
      },
      "source": [
        "<a href=\"https://colab.research.google.com/github/ernestomancebo/DeepLearningInPractice/blob/main/text_and_sequences/raw2word_embedding.ipynb\" target=\"_parent\"><img src=\"https://colab.research.google.com/assets/colab-badge.svg\" alt=\"Open In Colab\"/></a>"
      ]
    },
    {
      "cell_type": "markdown",
      "metadata": {
        "id": "Ed6-MLWsNdAn"
      },
      "source": [
        "#Raw2Word Embedding\r\n",
        "\r\n",
        "This notebooks attemps to gather raw text content and build a Word Embedding vector dictionary and feed it into a Neural Network for classification (a `Dense` layered network).\r\n",
        "\r\n",
        "The first step to acomplish is to download the raw data from IMDB."
      ]
    },
    {
      "cell_type": "code",
      "metadata": {
        "id": "L8YFk7x4NSL-"
      },
      "source": [
        "!curl -O https://ai.stanford.edu/~amaas/data/sentiment/aclImdb_v1.tar.gz\r\n",
        "!tar -xf aclImdb_v1.tar.gz\r\n",
        "!rm aclImdb_v1.tar.gz"
      ],
      "execution_count": 13,
      "outputs": []
    },
    {
      "cell_type": "code",
      "metadata": {
        "id": "IGnZt4XUNcpn"
      },
      "source": [
        "import os\r\n",
        "\r\n",
        "imdb_dir = 'aclImdb'\r\n",
        "train_dir = os.path.join(imdb_dir, 'train')"
      ],
      "execution_count": 15,
      "outputs": []
    },
    {
      "cell_type": "markdown",
      "metadata": {
        "id": "w0d5zfINRKGJ"
      },
      "source": [
        "Now we populate the dataset/corpus."
      ]
    },
    {
      "cell_type": "code",
      "metadata": {
        "id": "Zgjsn-duPmLH"
      },
      "source": [
        "texts = []\r\n",
        "labels = []\r\n",
        "\r\n",
        "for label_type in ['neg', 'pos']:\r\n",
        "  dir_name = os.path.join(train_dir, label_type)\r\n",
        "  for fname in os.listdir(dir_name):\r\n",
        "    # Only text file are processed\r\n",
        "    if fname[-4:] == '.txt':\r\n",
        "      f = open(os.path.join(dir_name, fname))\r\n",
        "      texts.append(f.read())\r\n",
        "      f.close()\r\n",
        "\r\n",
        "      if label_type == 'neg':\r\n",
        "        labels.append(0)\r\n",
        "      else:\r\n",
        "        labels.append(1)"
      ],
      "execution_count": 24,
      "outputs": []
    },
    {
      "cell_type": "markdown",
      "metadata": {
        "id": "EZh0koBCPmIE"
      },
      "source": [
        "In the next block we tokenize the IMDB corpus/data, after that we prepare the train and test sets."
      ]
    },
    {
      "cell_type": "code",
      "metadata": {
        "colab": {
          "base_uri": "https://localhost:8080/"
        },
        "id": "srJJJD9NPmFq",
        "outputId": "2549db17-f05b-4136-cf92-cb195777a666"
      },
      "source": [
        "from keras.preprocessing.text import Tokenizer\r\n",
        "from keras.preprocessing.sequence import pad_sequences\r\n",
        "import numpy as np\r\n",
        "\r\n",
        "# Training and embedding contrains\r\n",
        "maxlen = 100\r\n",
        "training_samples = 200\r\n",
        "validation_samples = 1000\r\n",
        "max_words = 10000\r\n",
        "\r\n",
        "# Embedding tools/objects\r\n",
        "tokenizer = Tokenizer(num_words=max_words)\r\n",
        "tokenizer.fit_on_texts(texts)\r\n",
        "sequences = tokenizer.texts_to_sequences(texts)\r\n",
        "\r\n",
        "# Tokenizer output\r\n",
        "word_index = tokenizer.word_index\r\n",
        "print(f'Found {len(word_index)} unique tokens.')\r\n",
        "\r\n",
        "# Data to be feeded into the NN\r\n",
        "data = pad_sequences(sequences, maxlen=maxlen)\r\n",
        "labels = np.asarray(labels)\r\n",
        "\r\n",
        "print(f'Shape of the input tensor: {data.shape}')\r\n",
        "print(f'Shape of the label tensor: {labels.shape}')\r\n",
        "\r\n",
        "# We ramble a bit\r\n",
        "indices = np.arange(data.shape[0])\r\n",
        "data = data[indices]\r\n",
        "labels = labels[indices]\r\n",
        "\r\n",
        "x_train = data[:training_samples]\r\n",
        "y_train = labels[:training_samples]\r\n",
        "\r\n",
        "x_val = data[training_samples: training_samples + validation_samples]\r\n",
        "y_val = labels[training_samples: training_samples + validation_samples]"
      ],
      "execution_count": 29,
      "outputs": [
        {
          "output_type": "stream",
          "text": [
            "Found 88582 unique tokens.\n",
            "Shape of the input tensor: (25000, 100)\n",
            "Shape of the label tensor: (25000,)\n"
          ],
          "name": "stdout"
        }
      ]
    },
    {
      "cell_type": "markdown",
      "metadata": {
        "id": "l0eESHGFVJ1A"
      },
      "source": [
        "Now we download the GloVe corpus and pre process it."
      ]
    },
    {
      "cell_type": "code",
      "metadata": {
        "colab": {
          "base_uri": "https://localhost:8080/"
        },
        "id": "gAoWDY_3VKp3",
        "outputId": "f26b5050-52fb-4e6d-b563-a90bd47c5e1c"
      },
      "source": [
        "!wget http://nlp.stanford.edu/data/glove.6B.zip\r\n",
        "!unzip glove.6B.zip -d glove.6B\r\n",
        "!rm glove.6B.zip"
      ],
      "execution_count": 35,
      "outputs": [
        {
          "output_type": "stream",
          "text": [
            "--2021-01-19 15:51:59--  http://nlp.stanford.edu/data/glove.6B.zip\n",
            "Resolving nlp.stanford.edu (nlp.stanford.edu)... 171.64.67.140\n",
            "Connecting to nlp.stanford.edu (nlp.stanford.edu)|171.64.67.140|:80... connected.\n",
            "HTTP request sent, awaiting response... 302 Found\n",
            "Location: https://nlp.stanford.edu/data/glove.6B.zip [following]\n",
            "--2021-01-19 15:51:59--  https://nlp.stanford.edu/data/glove.6B.zip\n",
            "Connecting to nlp.stanford.edu (nlp.stanford.edu)|171.64.67.140|:443... connected.\n",
            "HTTP request sent, awaiting response... 301 Moved Permanently\n",
            "Location: http://downloads.cs.stanford.edu/nlp/data/glove.6B.zip [following]\n",
            "--2021-01-19 15:52:00--  http://downloads.cs.stanford.edu/nlp/data/glove.6B.zip\n",
            "Resolving downloads.cs.stanford.edu (downloads.cs.stanford.edu)... 171.64.64.22\n",
            "Connecting to downloads.cs.stanford.edu (downloads.cs.stanford.edu)|171.64.64.22|:80... connected.\n",
            "HTTP request sent, awaiting response... 200 OK\n",
            "Length: 862182613 (822M) [application/zip]\n",
            "Saving to: ‘glove.6B.zip’\n",
            "\n",
            "glove.6B.zip        100%[===================>] 822.24M  2.28MB/s    in 6m 29s  \n",
            "\n",
            "2021-01-19 15:58:29 (2.11 MB/s) - ‘glove.6B.zip’ saved [862182613/862182613]\n",
            "\n",
            "Archive:  glove.6B.zip\n",
            "  inflating: glove.6B.50d.txt        \n",
            "  inflating: glove.6B.100d.txt       \n",
            "  inflating: glove.6B.200d.txt       \n",
            "  inflating: glove.6B.300d.txt       \n"
          ],
          "name": "stdout"
        }
      ]
    },
    {
      "cell_type": "markdown",
      "metadata": {
        "id": "a38YtuTpWwJf"
      },
      "source": [
        "Now `glove.6B.100d.txt` file is loaded and indexed."
      ]
    },
    {
      "cell_type": "code",
      "metadata": {
        "colab": {
          "base_uri": "https://localhost:8080/"
        },
        "id": "z4SPunT8VLhM",
        "outputId": "bc1f4686-8119-419f-d317-f0ab27139c9a"
      },
      "source": [
        "glove_dir = 'glove.6B'\r\n",
        "embeddings_index = {}\r\n",
        "\r\n",
        "f = open(os.path.join(glove_dir, 'glove.6B.100d.txt'))\r\n",
        "for line in f:\r\n",
        "  values = line.split()\r\n",
        "  word = values[0]\r\n",
        "  coefs = np.asarray(values[1:], dtype='float32')\r\n",
        "  embeddings_index[word] = coefs\r\n",
        "\r\n",
        "f.close()\r\n",
        "print(f'Found {len(embeddings_index)} word vectors.')"
      ],
      "execution_count": 41,
      "outputs": [
        {
          "output_type": "stream",
          "text": [
            "Found 400000 word vectors.\n"
          ],
          "name": "stdout"
        }
      ]
    },
    {
      "cell_type": "markdown",
      "metadata": {
        "id": "bMrm87gdVLbr"
      },
      "source": [
        "The GloVe matrix is now being prepared."
      ]
    },
    {
      "cell_type": "code",
      "metadata": {
        "id": "R1ZBWh3aVLTc"
      },
      "source": [
        "embedding_dim = 100\r\n",
        "\r\n",
        "embedding_matrix = np.zeros((max_words, embedding_dim))\r\n",
        "for word, i in word_index.items():\r\n",
        "  if i < max_words:\r\n",
        "    embedding_vector = embeddings_index.get(word)\r\n",
        "    \r\n",
        "    if embedding_vector is not None:\r\n",
        "      embedding_matrix[i] = embedding_vector"
      ],
      "execution_count": 43,
      "outputs": []
    },
    {
      "cell_type": "markdown",
      "metadata": {
        "id": "HjBlvuquZeZN"
      },
      "source": [
        "##Sequential Model for Text Embedding\r\n",
        "\r\n",
        "\r\n",
        "This model is intended to do a classification task."
      ]
    },
    {
      "cell_type": "code",
      "metadata": {
        "colab": {
          "base_uri": "https://localhost:8080/"
        },
        "id": "yOa_ihGHZdpz",
        "outputId": "b8641efb-c329-44a4-d4da-5d2ad1e7553a"
      },
      "source": [
        "from keras.models import Sequential\r\n",
        "from keras.layers import Embedding, Flatten, Dense\r\n",
        "\r\n",
        "model = Sequential()\r\n",
        "model.add(Embedding(max_words, embedding_dim, input_length=maxlen))\r\n",
        "model.add(Flatten())\r\n",
        "model.add(Dense(32, activation='relu'))\r\n",
        "model.add(Dense(1, activation='sigmoid'))\r\n",
        "\r\n",
        "model.summary()"
      ],
      "execution_count": 46,
      "outputs": [
        {
          "output_type": "stream",
          "text": [
            "Model: \"sequential_1\"\n",
            "_________________________________________________________________\n",
            "Layer (type)                 Output Shape              Param #   \n",
            "=================================================================\n",
            "embedding (Embedding)        (None, 100, 100)          1000000   \n",
            "_________________________________________________________________\n",
            "flatten (Flatten)            (None, 10000)             0         \n",
            "_________________________________________________________________\n",
            "dense (Dense)                (None, 32)                320032    \n",
            "_________________________________________________________________\n",
            "dense_1 (Dense)              (None, 1)                 33        \n",
            "=================================================================\n",
            "Total params: 1,320,065\n",
            "Trainable params: 1,320,065\n",
            "Non-trainable params: 0\n",
            "_________________________________________________________________\n"
          ],
          "name": "stdout"
        }
      ]
    },
    {
      "cell_type": "markdown",
      "metadata": {
        "id": "mfWkDU1jaGNa"
      },
      "source": [
        "We freeze now the embedding layer (the first) and assing weights to it ussing the **Glove.6B** matrix "
      ]
    },
    {
      "cell_type": "code",
      "metadata": {
        "id": "GBw0R46yacuY"
      },
      "source": [
        "model.layers[0].set_weights([embedding_matrix])\r\n",
        "model.layers[0].trainable = False"
      ],
      "execution_count": 47,
      "outputs": []
    },
    {
      "cell_type": "markdown",
      "metadata": {
        "id": "hnz_sCeNaysi"
      },
      "source": [
        "Finally we start training the model"
      ]
    },
    {
      "cell_type": "code",
      "metadata": {
        "colab": {
          "base_uri": "https://localhost:8080/"
        },
        "id": "JFFNN1dja1QF",
        "outputId": "396889f3-3b7e-48b0-d532-df550d2fcb1a"
      },
      "source": [
        "model.compile(\r\n",
        "    optimizer='rmsprop',\r\n",
        "    loss='binary_crossentropy',\r\n",
        "    metrics=['acc']\r\n",
        ")\r\n",
        "\r\n",
        "history = model.fit(x_train, y_train, epochs=10, batch_size=32, validation_data=(x_val, y_val))"
      ],
      "execution_count": 48,
      "outputs": [
        {
          "output_type": "stream",
          "text": [
            "Epoch 1/10\n",
            "7/7 [==============================] - 2s 103ms/step - loss: 0.1950 - acc: 0.9026 - val_loss: 9.7067e-05 - val_acc: 1.0000\n",
            "Epoch 2/10\n",
            "7/7 [==============================] - 0s 27ms/step - loss: 8.9812e-08 - acc: 1.0000 - val_loss: 9.7063e-05 - val_acc: 1.0000\n",
            "Epoch 3/10\n",
            "7/7 [==============================] - 0s 26ms/step - loss: 9.0361e-08 - acc: 1.0000 - val_loss: 9.7058e-05 - val_acc: 1.0000\n",
            "Epoch 4/10\n",
            "7/7 [==============================] - 0s 25ms/step - loss: 7.5919e-08 - acc: 1.0000 - val_loss: 9.7049e-05 - val_acc: 1.0000\n",
            "Epoch 5/10\n",
            "7/7 [==============================] - 0s 32ms/step - loss: 1.4976e-07 - acc: 1.0000 - val_loss: 9.7038e-05 - val_acc: 1.0000\n",
            "Epoch 6/10\n",
            "7/7 [==============================] - 0s 30ms/step - loss: 2.1889e-07 - acc: 1.0000 - val_loss: 9.7023e-05 - val_acc: 1.0000\n",
            "Epoch 7/10\n",
            "7/7 [==============================] - 0s 26ms/step - loss: 8.6637e-08 - acc: 1.0000 - val_loss: 9.6997e-05 - val_acc: 1.0000\n",
            "Epoch 8/10\n",
            "7/7 [==============================] - 0s 26ms/step - loss: 7.2808e-08 - acc: 1.0000 - val_loss: 9.6922e-05 - val_acc: 1.0000\n",
            "Epoch 9/10\n",
            "7/7 [==============================] - 0s 29ms/step - loss: 7.8642e-08 - acc: 1.0000 - val_loss: 9.6868e-05 - val_acc: 1.0000\n",
            "Epoch 10/10\n",
            "7/7 [==============================] - 0s 30ms/step - loss: 1.2598e-07 - acc: 1.0000 - val_loss: 9.6800e-05 - val_acc: 1.0000\n"
          ],
          "name": "stdout"
        }
      ]
    },
    {
      "cell_type": "code",
      "metadata": {
        "id": "9-7pUSs3bGLF"
      },
      "source": [
        "model.save_weights('pre_trained_glove_model.h5')"
      ],
      "execution_count": 49,
      "outputs": []
    },
    {
      "cell_type": "markdown",
      "metadata": {
        "id": "tCr5drihbRxg"
      },
      "source": [
        "Below the history is plotted and notice that it matches the training, it's odd perhaps the sape is not the same and it got randomnized."
      ]
    },
    {
      "cell_type": "code",
      "metadata": {
        "colab": {
          "base_uri": "https://localhost:8080/"
        },
        "id": "zDAGbGqBbqn-",
        "outputId": "48e87b56-87c8-430f-a56c-2c9f4eb1a118"
      },
      "source": [
        "print(f'Train Shape: {x_train.shape}. Validation Shape: {x_val.shape}')"
      ],
      "execution_count": 51,
      "outputs": [
        {
          "output_type": "stream",
          "text": [
            "Train Shape: (200, 100). Validation Shape: (1000, 100)\n"
          ],
          "name": "stdout"
        }
      ]
    },
    {
      "cell_type": "code",
      "metadata": {
        "colab": {
          "base_uri": "https://localhost:8080/",
          "height": 545
        },
        "id": "Ey8KrLkybWSK",
        "outputId": "b113669e-1379-4252-b5a3-51d79d17d2b3"
      },
      "source": [
        "import matplotlib.pyplot as plt\r\n",
        "\r\n",
        "acc = history.history['acc']\r\n",
        "val_acc = history.history['val_acc']\r\n",
        "loss = history.history['loss']\r\n",
        "val_loss = history.history['val_loss']\r\n",
        "\r\n",
        "epochs = range(1, len(acc) + 1)\r\n",
        "\r\n",
        "plt.plot(epochs, acc, 'bo', label='Training acc')\r\n",
        "plt.plot(epochs, val_acc, 'b', label='Validation acc')\r\n",
        "plt.title('Training and validation accuracy')\r\n",
        "plt.legend()\r\n",
        "\r\n",
        "plt.figure()\r\n",
        "\r\n",
        "plt.plot(epochs, loss, 'bo', label='Training loss')\r\n",
        "plt.plot(epochs, val_loss, 'b', label='Validation loss')\r\n",
        "plt.title('Training and validation loss')\r\n",
        "plt.legend()\r\n",
        "\r\n",
        "plt.show()"
      ],
      "execution_count": 50,
      "outputs": [
        {
          "output_type": "display_data",
          "data": {
            "image/png": "[encoded data removed]",
            "text/plain": [
              "<Figure size 432x288 with 1 Axes>"
            ]
          },
          "metadata": {
            "tags": [],
            "needs_background": "light"
          }
        },
        {
          "output_type": "display_data",
          "data": {
            "image/png": "[encoded data removed]",
            "text/plain": [
              "<Figure size 432x288 with 1 Axes>"
            ]
          },
          "metadata": {
            "tags": [],
            "needs_background": "light"
          }
        }
      ]
    },
    {
      "cell_type": "markdown",
      "metadata": {
        "id": "LTlITbBNcXC4"
      },
      "source": [
        "##Training again, but now without freezing the embedding layer.\r\n",
        "\r\n",
        "\r\n",
        "Now we train a new model, but without freezing the embedding layer "
      ]
    },
    {
      "cell_type": "code",
      "metadata": {
        "colab": {
          "base_uri": "https://localhost:8080/"
        },
        "id": "k0EkEwhzcdAV",
        "outputId": "c553ad35-5d96-4302-9d0b-859d047206e1"
      },
      "source": [
        "model = Sequential()\r\n",
        "model.add(Embedding(max_words, embedding_dim, input_length=maxlen))\r\n",
        "model.add(Flatten())\r\n",
        "model.add(Dense(32, activation='relu'))\r\n",
        "model.add(Dense(1, activation='sigmoid'))\r\n",
        "\r\n",
        "model.summary()"
      ],
      "execution_count": 52,
      "outputs": [
        {
          "output_type": "stream",
          "text": [
            "Model: \"sequential_2\"\n",
            "_________________________________________________________________\n",
            "Layer (type)                 Output Shape              Param #   \n",
            "=================================================================\n",
            "embedding_1 (Embedding)      (None, 100, 100)          1000000   \n",
            "_________________________________________________________________\n",
            "flatten_1 (Flatten)          (None, 10000)             0         \n",
            "_________________________________________________________________\n",
            "dense_2 (Dense)              (None, 32)                320032    \n",
            "_________________________________________________________________\n",
            "dense_3 (Dense)              (None, 1)                 33        \n",
            "=================================================================\n",
            "Total params: 1,320,065\n",
            "Trainable params: 1,320,065\n",
            "Non-trainable params: 0\n",
            "_________________________________________________________________\n"
          ],
          "name": "stdout"
        }
      ]
    },
    {
      "cell_type": "code",
      "metadata": {
        "colab": {
          "base_uri": "https://localhost:8080/"
        },
        "id": "SJ3iRZe7cdTK",
        "outputId": "a9b842cf-b22b-47d0-c02e-72f338beebe8"
      },
      "source": [
        "model.compile(optimizer='rmsprop',\r\n",
        "              loss='binary_crossentropy',\r\n",
        "              metrics=['acc'])\r\n",
        "\r\n",
        "history = model.fit(x_train, y_train,\r\n",
        "                    epochs=10,\r\n",
        "                    batch_size=32,\r\n",
        "                    validation_data=(x_val, y_val))"
      ],
      "execution_count": 53,
      "outputs": [
        {
          "output_type": "stream",
          "text": [
            "Epoch 1/10\n",
            "7/7 [==============================] - 1s 53ms/step - loss: 0.6145 - acc: 0.7403 - val_loss: 0.2138 - val_acc: 1.0000\n",
            "Epoch 2/10\n",
            "7/7 [==============================] - 0s 27ms/step - loss: 0.1234 - acc: 1.0000 - val_loss: 0.0443 - val_acc: 1.0000\n",
            "Epoch 3/10\n",
            "7/7 [==============================] - 0s 25ms/step - loss: 0.0244 - acc: 1.0000 - val_loss: 0.0169 - val_acc: 1.0000\n",
            "Epoch 4/10\n",
            "7/7 [==============================] - 0s 26ms/step - loss: 0.0091 - acc: 1.0000 - val_loss: 0.0083 - val_acc: 1.0000\n",
            "Epoch 5/10\n",
            "7/7 [==============================] - 0s 28ms/step - loss: 0.0044 - acc: 1.0000 - val_loss: 0.0046 - val_acc: 1.0000\n",
            "Epoch 6/10\n",
            "7/7 [==============================] - 0s 24ms/step - loss: 0.0023 - acc: 1.0000 - val_loss: 0.0027 - val_acc: 1.0000\n",
            "Epoch 7/10\n",
            "7/7 [==============================] - 0s 29ms/step - loss: 0.0012 - acc: 1.0000 - val_loss: 0.0016 - val_acc: 1.0000\n",
            "Epoch 8/10\n",
            "7/7 [==============================] - 0s 26ms/step - loss: 7.7836e-04 - acc: 1.0000 - val_loss: 0.0011 - val_acc: 1.0000\n",
            "Epoch 9/10\n",
            "7/7 [==============================] - 0s 26ms/step - loss: 4.6137e-04 - acc: 1.0000 - val_loss: 6.7505e-04 - val_acc: 1.0000\n",
            "Epoch 10/10\n",
            "7/7 [==============================] - 0s 24ms/step - loss: 2.8826e-04 - acc: 1.0000 - val_loss: 4.4215e-04 - val_acc: 1.0000\n"
          ],
          "name": "stdout"
        }
      ]
    },
    {
      "cell_type": "markdown",
      "metadata": {
        "id": "Mu41hDhMdLz7"
      },
      "source": [
        "Let's see how it made it"
      ]
    },
    {
      "cell_type": "code",
      "metadata": {
        "colab": {
          "base_uri": "https://localhost:8080/",
          "height": 545
        },
        "id": "Y2lfeDJcdLI-",
        "outputId": "c15f2088-2e7d-402f-cff1-32c3f4d02131"
      },
      "source": [
        "acc = history.history['acc']\r\n",
        "val_acc = history.history['val_acc']\r\n",
        "loss = history.history['loss']\r\n",
        "val_loss = history.history['val_loss']\r\n",
        "\r\n",
        "epochs = range(1, len(acc) + 1)\r\n",
        "\r\n",
        "plt.plot(epochs, acc, 'bo', label='Training acc')\r\n",
        "plt.plot(epochs, val_acc, 'b', label='Validation acc')\r\n",
        "plt.title('Training and validation accuracy')\r\n",
        "plt.legend()\r\n",
        "\r\n",
        "plt.figure()\r\n",
        "\r\n",
        "plt.plot(epochs, loss, 'bo', label='Training loss')\r\n",
        "plt.plot(epochs, val_loss, 'b', label='Validation loss')\r\n",
        "plt.title('Training and validation loss')\r\n",
        "plt.legend()\r\n",
        "\r\n",
        "plt.show()"
      ],
      "execution_count": 54,
      "outputs": [
        {
          "output_type": "display_data",
          "data": {
            "image/png": "[encoded data removed]",
            "text/plain": [
              "<Figure size 432x288 with 1 Axes>"
            ]
          },
          "metadata": {
            "tags": [],
            "needs_background": "light"
          }
        },
        {
          "output_type": "display_data",
          "data": {
            "image/png": "[encoded data removed]",
            "text/plain": [
              "<Figure size 432x288 with 1 Axes>"
            ]
          },
          "metadata": {
            "tags": [],
            "needs_background": "light"
          }
        }
      ]
    },
    {
      "cell_type": "markdown",
      "metadata": {
        "id": "poLqURswdA-D"
      },
      "source": [
        "So far so good, now let's test over a test dataset"
      ]
    },
    {
      "cell_type": "code",
      "metadata": {
        "id": "KnD3jPpfcdPx"
      },
      "source": [
        "test_dir = os.path.join(imdb_dir, 'test')\r\n",
        "\r\n",
        "texts = []\r\n",
        "labels = []\r\n",
        "\r\n",
        "for label_type in ['neg', 'pos']:\r\n",
        "  dir_name = os.path.join(test_dir, label_type)\r\n",
        "\r\n",
        "  for fname in sorted(os.listdir(dir_name)):\r\n",
        "    if fname[-4:] == '.txt':\r\n",
        "      f = open(os.path.join(dir_name, fname))\r\n",
        "      texts.append(f.read())\r\n",
        "      f.close()\r\n",
        "\r\n",
        "      if label_type == 'neg':\r\n",
        "        labels.append(0)\r\n",
        "      else:\r\n",
        "        labels.append(1)\r\n",
        "\r\n",
        "sequences = tokenizer.texts_to_sequences(texts)\r\n",
        "\r\n",
        "# Now we prepare the test set\r\n",
        "x_test = pad_sequences(sequences, maxlen=maxlen)\r\n",
        "y_test = np.asarray(labels)"
      ],
      "execution_count": 55,
      "outputs": []
    },
    {
      "cell_type": "markdown",
      "metadata": {
        "id": "oxN1sCMfeGDF"
      },
      "source": [
        "Evaluating over the test set, we get a `0.5` of accuracy, which means is a hard task perhaps the GloVe Embedding already employed."
      ]
    },
    {
      "cell_type": "code",
      "metadata": {
        "colab": {
          "base_uri": "https://localhost:8080/"
        },
        "id": "BcPhlgHqcdII",
        "outputId": "0f02af3f-0b5f-4e45-c0e6-7d99697f87d6"
      },
      "source": [
        "model.load_weights('pre_trained_glove_model.h5')\r\n",
        "model.evaluate(x_test, y_test)"
      ],
      "execution_count": 56,
      "outputs": [
        {
          "output_type": "stream",
          "text": [
            "782/782 [==============================] - 2s 2ms/step - loss: 11.9898 - acc: 0.5000\n"
          ],
          "name": "stdout"
        },
        {
          "output_type": "execute_result",
          "data": {
            "text/plain": [
              "[11.989752769470215, 0.5]"
            ]
          },
          "metadata": {
            "tags": []
          },
          "execution_count": 56
        }
      ]
    }
  ]
}